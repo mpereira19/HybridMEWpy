{
 "cells": [
  {
   "cell_type": "markdown",
   "source": [
    "# Validation Kinetic Model Tool\n",
    "\n",
    "### Chassagnole dynamic model of the Central Carbon Metabolism of *Escherichia coli*"
   ],
   "metadata": {
    "collapsed": false
   }
  },
  {
   "cell_type": "code",
   "execution_count": 1,
   "outputs": [
    {
     "name": "stdout",
     "output_type": "stream",
     "text": [
      "Set parameter Username\n",
      "Academic license - for non-commercial use only - expires 2023-05-20\n"
     ]
    }
   ],
   "source": [
    "from mewpy.io.sbml import load_ODEModel\n",
    "from mewpy.simulation.kinetic import KineticSimulation\n",
    "# from scipy.integrate import odeint, solve_ivp\n",
    "# from collections import OrderedDict\n",
    "# from numpy import linspace, array, dot, isnan\n",
    "import os\n",
    "# import pandas as pd\n",
    "from mewpy.solvers.ode import KineticConfigurations, ODEMethod\n",
    "from mewpy.solvers import set_default_ode_solver, set_default_solver"
   ],
   "metadata": {
    "collapsed": false
   }
  },
  {
   "cell_type": "code",
   "execution_count": 2,
   "outputs": [],
   "source": [
    "def conv(dictionary, m):\n",
    "\tfor k, v in dictionary.items():\n",
    "\t\ti = 0\n",
    "\t\ta = True\n",
    "\t\tif (round(dictionary[k], 3) == round(m[k], 3)) != a:\n",
    "\t\t\ti = 1\n",
    "\t\t\tprint(f'{k}: {i}, dif:{round(dictionary[k], 3) - round(m[k], 3)}')\n",
    "\t\telse:\n",
    "\t\t\tprint(f'{k}: {i}')"
   ],
   "metadata": {
    "collapsed": false
   }
  },
  {
   "cell_type": "code",
   "execution_count": 3,
   "outputs": [],
   "source": [
    "#DIR = os.path.dirname(os.path.realpath(__file__))\n",
    "#PATH = os.path.join(DIR, '../models/kinetic/')\n",
    "PATH = os.path.dirname('../models/kinetic/')\n",
    "DATA_FILE = os.path.join(PATH, \"chassagnole2002.xml\")"
   ],
   "metadata": {
    "collapsed": false
   }
  },
  {
   "cell_type": "code",
   "execution_count": 4,
   "outputs": [
    {
     "name": "stdout",
     "output_type": "stream",
     "text": [
      "Fluxes:\n"
     ]
    },
    {
     "data": {
      "text/plain": "{'vPTS': 0.2004040648224083,\n 'vPGI': 0.05848102545253425,\n 'vPGM': 0.002341293081903118,\n 'vG6PDH': 0.13948494958093566,\n 'vPFK': 0.14136673639705025,\n 'vTA': 0.04534072383316558,\n 'vTKA': 0.04534839684676647,\n 'vTKB': 0.03843589618807984,\n 'vMURSyNTH': 0.00043711,\n 'vALDO': 0.1413591480144358,\n 'vGAPDH': 0.3205226284133185,\n 'vTIS': 0.13968898277401282,\n 'vTRPSYNTH': 0.001037,\n 'vG3PDH': 0.0016655141406136116,\n 'vPGK': 0.32052240576436336,\n 'vsersynth': 0.017506217318246517,\n 'vrpGluMu': 0.3029568806975957,\n 'vENO': 0.3029457761796511,\n 'vPK': 0.03811740502293797,\n 'vpepCxylase': 0.04322861651928062,\n 'vSynth1': 0.014219282310962814,\n 'vSynth2': 0.053562362735893,\n 'vDAHPS': 0.006902099373749903,\n 'vPDH': 0.18818456400314318,\n 'vMethSynth': 0.0022627,\n 'vPGDH': 0.13946249102003822,\n 'vR5PI': 0.0556712777976379,\n 'vRu5P': 0.08378814401290956,\n 'vPPK': 0.010311798920492206,\n 'vG1PAT': 0.002323146383364352,\n 'vG6P': 9.679670702987407e-05,\n 'vf6P': 1.668907673536587e-05,\n 'vfdP': 7.588382615350597e-06,\n 'vGAP': 6.071576809549574e-06,\n 'vDHAP': 4.651099808618151e-06,\n 'vPGP': 2.226489721033458e-07,\n 'vPG3': 5.930774849793717e-05,\n 'vpg2': 1.110451795053572e-05,\n 'vPEP': 7.43081303118882e-05,\n 'vRibu5p': 3.0883749381293613e-06,\n 'vRIB5P': 1.1074020828304116e-05,\n 'vXYL5P': 3.839822212394264e-06,\n 'vSED7P': 7.673013600950535e-06,\n 'vpyr': 7.424310631008744e-05,\n 'vPG': 2.245856089753227e-05,\n 'vE4P': 2.7282713354134813e-06,\n 'vGLP': 1.8146698538762656e-05,\n 'vEXTER': 0.20040406482240822}"
     },
     "execution_count": 4,
     "metadata": {},
     "output_type": "execute_result"
    }
   ],
   "source": [
    "# set_default_solver('cplex')\n",
    "set_default_ode_solver('scipy')\n",
    "KineticConfigurations.SOLVER_METHOD = ODEMethod.LSODA\n",
    "model = load_ODEModel(DATA_FILE)\n",
    "sim = KineticSimulation(model, timeout=True)\n",
    "res = sim.simulate()\n",
    "print(f'Fluxes:')\n",
    "dict(res.fluxes)"
   ],
   "metadata": {
    "collapsed": false
   }
  },
  {
   "cell_type": "code",
   "execution_count": 5,
   "outputs": [
    {
     "data": {
      "text/plain": "OrderedDict([('cpep', 2.67),\n             ('cglcex', 2.0),\n             ('cg6p', 3.48),\n             ('cpyr', 2.67),\n             ('cf6p', 0.6),\n             ('cg1p', 0.653),\n             ('cpg', 0.808),\n             ('cfdp', 0.272),\n             ('csed7p', 0.276),\n             ('cgap', 0.218),\n             ('ce4p', 0.098),\n             ('cxyl5p', 0.138),\n             ('crib5p', 0.398),\n             ('cdhap', 0.167),\n             ('cpgp', 0.008),\n             ('cpg3', 2.13),\n             ('cpg2', 0.399),\n             ('cribu5p', 0.111)])"
     },
     "execution_count": 5,
     "metadata": {},
     "output_type": "execute_result"
    }
   ],
   "source": [
    "model.concentrations"
   ],
   "metadata": {
    "collapsed": false
   }
  },
  {
   "cell_type": "code",
   "execution_count": 6,
   "outputs": [
    {
     "name": "stdout",
     "output_type": "stream",
     "text": [
      "Concentrations:\n"
     ]
    },
    {
     "data": {
      "text/plain": "{'cpep': 2.6729543277657624,\n 'cglcex': 0.05570292063739896,\n 'cg6p': 3.481895936326404,\n 'cpyr': 2.6706153348952317,\n 'cf6p': 0.6003265012721534,\n 'cg1p': 0.6527589402432609,\n 'cpg': 0.8078619027889298,\n 'cfdp': 0.27296340342987707,\n 'csed7p': 0.2760076834874292,\n 'cgap': 0.21840204350897738,\n 'ce4p': 0.09813925666954966,\n 'cxyl5p': 0.13812310116526122,\n 'crib5p': 0.39834607296057956,\n 'cdhap': 0.1673057485114441,\n 'cpgp': 0.0080089558310556,\n 'cpg3': 2.133372248127236,\n 'cpg2': 0.39944309174588916,\n 'cribu5p': 0.11109262201830893}"
     },
     "execution_count": 6,
     "metadata": {},
     "output_type": "execute_result"
    }
   ],
   "source": [
    "print(f'Concentrations:')\n",
    "dict(res.concentations)"
   ],
   "metadata": {
    "collapsed": false
   }
  },
  {
   "cell_type": "code",
   "execution_count": 7,
   "outputs": [],
   "source": [
    "file = open('lsoda.txt','a')\n",
    "for key, value in res.concentations.items():\n",
    "\tfile.writelines(f'{key}: {value}\\n')\n",
    "file.close()"
   ],
   "metadata": {
    "collapsed": false
   }
  },
  {
   "cell_type": "code",
   "execution_count": 8,
   "outputs": [
    {
     "name": "stdout",
     "output_type": "stream",
     "text": [
      "Initial Concentrations:\n"
     ]
    },
    {
     "data": {
      "text/plain": "{'cpep': 2.67,\n 'cglcex': 2.0,\n 'cg6p': 3.48,\n 'cpyr': 2.67,\n 'cf6p': 0.6,\n 'cg1p': 0.653,\n 'cpg': 0.808,\n 'cfdp': 0.272,\n 'csed7p': 0.276,\n 'cgap': 0.218,\n 'ce4p': 0.098,\n 'cxyl5p': 0.138,\n 'crib5p': 0.398,\n 'cdhap': 0.167,\n 'cpgp': 0.008,\n 'cpg3': 2.13,\n 'cpg2': 0.399,\n 'cribu5p': 0.111}"
     },
     "execution_count": 8,
     "metadata": {},
     "output_type": "execute_result"
    }
   ],
   "source": [
    "print(f'Initial Concentrations:')\n",
    "dict(sim.model.concentrations)"
   ],
   "metadata": {
    "collapsed": false
   }
  },
  {
   "cell_type": "code",
   "execution_count": 9,
   "outputs": [
    {
     "name": "stdout",
     "output_type": "stream",
     "text": [
      "Metabolites:\n"
     ]
    },
    {
     "data": {
      "text/plain": "{'cpep': Phosphoenol pyruvate,\n 'cglcex': Extracellular Glucose,\n 'cg6p': Glucose-6-Phosphate,\n 'cpyr': Pyruvate,\n 'cf6p': Fructose-6-Phosphate,\n 'cg1p': Glucose-1-Phosphate,\n 'cpg': 6-Phosphogluconate,\n 'cfdp': Fructose-1,6-bisphosphate,\n 'csed7p': sedoheptulose-7-phosphate,\n 'cgap': Glyceraldehyde-3-Phosphate,\n 'ce4p': Erythrose-4-phosphate,\n 'cxyl5p': Xylulose-5-phosphate,\n 'crib5p': Ribose-5-phosphate,\n 'cdhap': Dihydroxyacetonephosphate,\n 'cpgp': 1,3-diphosphosphoglycerate,\n 'cpg3': 3-Phosphoglycerate,\n 'cpg2': 2-Phosphoglycerate,\n 'cribu5p': Ribulose-5-phosphate}"
     },
     "execution_count": 9,
     "metadata": {},
     "output_type": "execute_result"
    }
   ],
   "source": [
    "print(f'Metabolites:')\n",
    "dict(sim.model.metabolites)"
   ],
   "metadata": {
    "collapsed": false
   }
  },
  {
   "cell_type": "code",
   "execution_count": 10,
   "outputs": [
    {
     "name": "stdout",
     "output_type": "stream",
     "text": [
      "Constant Parameters:\n"
     ]
    },
    {
     "data": {
      "text/plain": "{'catp': 4.27,\n 'cadp': 0.595,\n 'camp': 0.955,\n 'cnadp': 0.195,\n 'cnadph': 0.062,\n 'cnad': 1.47,\n 'cnadh': 0.1,\n 'Dil': 2.78e-05}"
     },
     "execution_count": 10,
     "metadata": {},
     "output_type": "execute_result"
    }
   ],
   "source": [
    "print(f'Constant Parameters:')\n",
    "dict(sim.model.constant_params)"
   ],
   "metadata": {
    "collapsed": false
   }
  },
  {
   "cell_type": "code",
   "execution_count": 11,
   "outputs": [
    {
     "name": "stdout",
     "output_type": "stream",
     "text": [
      "cpep: 1, dif:0.0030000000000001137\n",
      "cglcex: 1, dif:-1.944\n",
      "cg6p: 1, dif:0.002000000000000224\n",
      "cpyr: 1, dif:0.0009999999999998899\n",
      "cf6p: 0\n",
      "cg1p: 0\n",
      "cpg: 0\n",
      "cfdp: 1, dif:0.0010000000000000009\n",
      "csed7p: 0\n",
      "cgap: 0\n",
      "ce4p: 0\n",
      "cxyl5p: 0\n",
      "crib5p: 0\n",
      "cdhap: 0\n",
      "cpgp: 0\n",
      "cpg3: 1, dif:0.0030000000000001137\n",
      "cpg2: 0\n",
      "cribu5p: 0\n"
     ]
    },
    {
     "data": {
      "text/plain": "objective: None\nStatus: ODEStatus.OPTIMAL\nConstraints: OrderedDict()\nMethod:None"
     },
     "execution_count": 11,
     "metadata": {},
     "output_type": "execute_result"
    }
   ],
   "source": [
    "conv(res.concentations, sim.model.concentrations)\n",
    "res"
   ],
   "metadata": {
    "collapsed": false
   }
  },
  {
   "cell_type": "markdown",
   "source": [
    "### Millard dynamic model of the Central Carbon Metabolism of *Escherichia coli*"
   ],
   "metadata": {
    "collapsed": false
   }
  },
  {
   "cell_type": "code",
   "execution_count": 12,
   "outputs": [],
   "source": [
    "KineticConfigurations.SOLVER_METHOD = ODEMethod.LSODA\n",
    "# DIR = os.path.dirname(os.path.realpath(__file__))\n",
    "PATH = os.path.dirname('../models/kinetic/')\n",
    "DATA_FILE = os.path.join(PATH, \"E_coli_Millard2016v2.xml\")"
   ],
   "metadata": {
    "collapsed": false
   }
  },
  {
   "cell_type": "code",
   "execution_count": 13,
   "outputs": [
    {
     "name": "stdout",
     "output_type": "stream",
     "text": [
      "Initial Concentrations:\n"
     ]
    },
    {
     "data": {
      "text/plain": "{'ACCOA': 0.154743005197164,\n 'ACO': 0.0321498018175313,\n 'ACP': 0.0143909273594558,\n 'AKG': 0.59787032384441,\n 'BPG': 0.0654105657862152,\n 'CIT': 0.0895304736844159,\n 'DAP': 0.437094067658024,\n 'E4P': 0.131299932172739,\n 'F6P': 0.261766478740896,\n 'FDP': 0.281808159864253,\n 'FUM': 0.213114978422209,\n 'G6P': 0.861129502441293,\n 'GAP': 0.117183109596569,\n 'GL6P': 0.00326165203359758,\n 'GLX': 0.00881041031115986,\n 'ICIT': 0.105782426191547,\n 'KDPG': 0.0868176890659311,\n 'MAL': 1.03215312348775,\n 'NAD': 1.4115436522776,\n 'NADH': 0.158456348418614,\n 'NADP': 0.16783720710787,\n 'NADPH': 0.0891627925196171,\n 'OAA': 0.127839589734497,\n 'PEP': 0.997038344330946,\n 'PGA2': 0.378297104706903,\n 'PGA3': 0.696274165244089,\n 'PGN': 0.131599781202154,\n 'PYR': 0.236891381334918,\n 'Q': 0.326117384176523,\n 'QH2': 0.673882615474956,\n 'R5P': 0.106841687532834,\n 'RU5P': 0.341826588051515,\n 'S7P': 0.141985142359057,\n 'SUC': 0.216055294883695,\n 'SUCCOA': 0.0410877780107645,\n 'X5P': 0.506017991063706,\n 'ei': 0.00033401303458514,\n 'eiP': 0.00638116273837147,\n 'eiia': 0.0142018557253279,\n 'eiiaP': 0.48056854395108,\n 'eiicb': 4.7190967217532e-05,\n 'eiicbP': 0.000342621394230619,\n 'hpr': 0.000191211795334012,\n 'hprP': 0.00525081181407641,\n 'icd': 0.000542743814193054,\n 'icdP': 0.0514572567075189,\n 'tal': 0.00278094383903305,\n 'talC3': 0.0572190561261228,\n 'tkt': 0.0138307829063354,\n 'tktC2': 0.0561692170121894,\n 'ADP': 0.598314702968157,\n 'AMP': 0.186252612968725,\n 'ATP': 2.57220146109274,\n 'CAMP': 0.923131385715857,\n 'COA': 0.5,\n 'HCO3': 1.4,\n 'P': 9.7639478565112,\n 'MG': 1.0,\n 'MgADP': 0.26268256405256,\n 'MgATP': 2.37120966755768,\n 'MgFDP': 0.0413815212722838,\n 'ASP': 1.17,\n 'CYS': 0.085,\n 'MN': 0.3,\n 'Hin': 3.16227766e-05,\n 'H2O': 1.0,\n 'O2': 0.21,\n 'FAD': 0.253914296785258,\n 'FADH2': 0.746085703291575,\n 'ACEx': 0.000186707816309202,\n 'GLCx': 0.00633336972696918,\n 'Px': 10.0,\n 'ACEx_0': 0.000186687071641801,\n 'Hout': 5.37448236126923e-05,\n 'GLCp': 0.00403336972696918,\n 'Pp': 9.99942809822305,\n 'ACEp': 0.000186697443975502}"
     },
     "execution_count": 13,
     "metadata": {},
     "output_type": "execute_result"
    }
   ],
   "source": [
    "set_default_ode_solver('scipy')\n",
    "model = load_ODEModel(DATA_FILE)\n",
    "sim = KineticSimulation(model, timeout=False)\n",
    "print(f'Initial Concentrations:')\n",
    "dict(sim.model.concentrations)"
   ],
   "metadata": {
    "collapsed": false
   }
  },
  {
   "cell_type": "code",
   "execution_count": 14,
   "outputs": [
    {
     "name": "stdout",
     "output_type": "stream",
     "text": [
      "Metabolites:\n"
     ]
    },
    {
     "data": {
      "text/plain": "{'ACCOA': ACCOA,\n 'ACO': ACO,\n 'ACP': ACP,\n 'AKG': AKG,\n 'BPG': BPG,\n 'CIT': CIT,\n 'DAP': DAP,\n 'E4P': E4P,\n 'F6P': F6P,\n 'FDP': FDP,\n 'FUM': FUM,\n 'G6P': G6P,\n 'GAP': GAP,\n 'GL6P': GL6P,\n 'GLX': GLX,\n 'ICIT': ICIT,\n 'KDPG': KDPG,\n 'MAL': MAL,\n 'NAD': NAD,\n 'NADH': NADH,\n 'NADP': NADP,\n 'NADPH': NADPH,\n 'OAA': OAA,\n 'PEP': PEP,\n 'PGA2': PGA2,\n 'PGA3': PGA3,\n 'PGN': PGN,\n 'PYR': PYR,\n 'Q': Q,\n 'QH2': QH2,\n 'R5P': R5P,\n 'RU5P': RU5P,\n 'S7P': S7P,\n 'SUC': SUC,\n 'SUCCOA': SUCCOA,\n 'X5P': X5P,\n 'ei': ei,\n 'eiP': eiP,\n 'eiia': eiia,\n 'eiiaP': eiiaP,\n 'eiicb': eiicb,\n 'eiicbP': eiicbP,\n 'hpr': hpr,\n 'hprP': hprP,\n 'icd': icd,\n 'icdP': icdP,\n 'tal': tal,\n 'talC3': talC3,\n 'tkt': tkt,\n 'tktC2': tktC2,\n 'ADP': ADP,\n 'AMP': AMP,\n 'ATP': ATP,\n 'CAMP': CAMP,\n 'COA': COA,\n 'HCO3': HCO3,\n 'P': P,\n 'MG': MG,\n 'MgADP': MgADP,\n 'MgATP': MgATP,\n 'MgFDP': MgFDP,\n 'ASP': ASP,\n 'CYS': CYS,\n 'MN': MN,\n 'Hin': Hin,\n 'H2O': H2O,\n 'O2': O2,\n 'FAD': FAD,\n 'FADH2': FADH2,\n 'ACEx': ACE,\n 'GLCx': GLCx,\n 'Px': Px,\n 'ACEx_0': ACEx,\n 'Hout': Hout,\n 'GLCp': GLCp,\n 'Pp': Pp,\n 'ACEp': ACEp}"
     },
     "execution_count": 14,
     "metadata": {},
     "output_type": "execute_result"
    }
   ],
   "source": [
    "print('Metabolites:')\n",
    "dict(sim.model.metabolites)"
   ],
   "metadata": {
    "collapsed": false
   }
  },
  {
   "cell_type": "code",
   "execution_count": 15,
   "outputs": [
    {
     "name": "stdout",
     "output_type": "stream",
     "text": [
      "Constant Parameters:\n"
     ]
    },
    {
     "data": {
      "text/plain": "{'FEED': 0.23,\n 'KdADPMg': 1.27771,\n 'KdATPMg': 0.0847634,\n 'KdFDPMg': 5.81,\n 'KmICIT_ACN': 9.31352,\n 'KmCIT_ACN': 0.0628882,\n 'KmACO_ACN': 0.02001,\n 'KeqNDH': 27.6193}"
     },
     "execution_count": 15,
     "metadata": {},
     "output_type": "execute_result"
    }
   ],
   "source": [
    "print(f'Constant Parameters:')\n",
    "dict(sim.model.constant_params)"
   ],
   "metadata": {
    "collapsed": false
   }
  },
  {
   "cell_type": "code",
   "execution_count": 16,
   "outputs": [
    {
     "name": "stdout",
     "output_type": "stream",
     "text": [
      "Fluxes:\n"
     ]
    },
    {
     "data": {
      "text/plain": "{'PGI': 0.16830093048771352,\n 'PFK': 0.18424014843066558,\n 'FBA': 0.18412471982938672,\n 'TPI': 0.1841247198293877,\n 'GDH': 0.388254291009501,\n 'PGK': 0.3882542910094946,\n 'GPM': 0.364998426804393,\n 'ENO': 0.3649984268043934,\n 'PYK': 0.15811333538019354,\n 'ZWF': 0.058506548508981786,\n 'PGL': 0.058506517298249815,\n 'GND': 0.042147723247082276,\n 'RPE': 0.01692465865315558,\n 'RPI': 0.025223064593927293,\n 'X5P_GAP_TKT': 0.01692465865315483,\n 'F6P_E4P_TKT': 0.0056551125822922555,\n 'S7P_R5P_TKT': 0.011269546070862632,\n 'F6P_GAP_TAL': 0.01126954607086245,\n 'S7P_E4P_TAL': 0.011269546070862668,\n 'FBP': 0.00011542860128135837,\n 'PPC': 0.0794230625622558,\n 'PCK': 0.11058678110883086,\n 'PPS': 1.5057735848048058e-05,\n 'MAD': 0.022166953954900908,\n 'PDH': 0.3825617626689835,\n 'GLT': 0.22635381681307312,\n 'ACN_1': 0.22635381681307146,\n 'ACN_2': 0.22635381681307495,\n 'ICD': 0.1284379371964783,\n 'LPD': 0.11164968019634129,\n 'SK': 0.11164968019633639,\n 'SDH': 0.2095655598129363,\n 'FUMA': 0.20956555981293765,\n 'MQO': 2.7964382085872597,\n 'MDH': 2.5111237231126307,\n 'ACEA': 0.09791587961659479,\n 'ACEB': 0.09791587961659469,\n 'ACEK_1': 0.0017079410627745361,\n 'ACEK_2': 0.0017079410627745372,\n 'EDD': 0.016358825261899575,\n 'EDA': 0.016358825261899565,\n 'NADH_req': 0.37763970998640173,\n 'PNT_req': -0.05077629175957586,\n 'ADK': 0.025982208246291563,\n 'ATP_syn': 1.7672321636665878,\n 'CYA': 0.007641234604307482,\n 'DOS': 0.00764123460430748,\n 'ACK': 0.018326952102353324,\n 'ACS': 0.01832591590613599,\n 'PTA': 0.018326952102353338,\n 'PTS_0': 0.22999999999999954,\n 'PTS_1': 0.23,\n 'PTS_2': 0.22999999999999954,\n 'PTS_3': 0.22999999999999987,\n 'PTS_4': 0.22999999999999984,\n 'GLC_feed': 0.22999999999999998,\n 'CYTBO': 0.7019449969315421,\n 'SQR': 0.2095655598129363,\n 'NDHII': 0.5313702385891168,\n 'GROWTH': 2.7521732787109607e-05,\n 'ATP_MAINTENANCE': 1.2554441113909776,\n 'XCH_GLC': 0.2300000000000001,\n 'PIT': 0.05719016073161277,\n 'XCH_P': 0.05719016073161917,\n 'XCH_ACE1': 1.036168412203401e-06,\n '_ACE_OUT': 1.0361962173313246e-06,\n 'XCH_ACE2': 1.0362240224595277e-06,\n 'GL6P_HYDROLYSIS': 3.121073173792972e-08}"
     },
     "execution_count": 16,
     "metadata": {},
     "output_type": "execute_result"
    }
   ],
   "source": [
    "res = sim.simulate()\n",
    "print(f'Fluxes:')\n",
    "dict(res.fluxes)"
   ],
   "metadata": {
    "collapsed": false
   }
  },
  {
   "cell_type": "code",
   "execution_count": 17,
   "outputs": [
    {
     "name": "stdout",
     "output_type": "stream",
     "text": [
      "Concentrations:\n"
     ]
    },
    {
     "data": {
      "text/plain": "{'ACCOA': 0.15474310713385286,\n 'ACO': 0.032149824586782824,\n 'ACP': 0.01439084565381359,\n 'AKG': 0.5978706406850774,\n 'BPG': 0.06541053508951805,\n 'CIT': 0.08953053811780777,\n 'DAP': 0.4370941152906647,\n 'E4P': 0.1312999299858147,\n 'F6P': 0.2617663697439203,\n 'FDP': 0.28180822068892264,\n 'FUM': 0.21311486948894393,\n 'G6P': 0.861129190704796,\n 'GAP': 0.11718312223156875,\n 'GL6P': 0.003261649403321131,\n 'GLX': 0.008810411781250374,\n 'ICIT': 0.10578249998582812,\n 'KDPG': 0.08681768625147442,\n 'MAL': 1.0321525769941637,\n 'NAD': 1.4115435803193837,\n 'NADH': 0.15845642037683022,\n 'NADP': 0.16783716411733893,\n 'NADPH': 0.08916283551014852,\n 'OAA': 0.12783909247283898,\n 'PEP': 0.9970378435168444,\n 'PGA2': 0.3782969217633987,\n 'PGA3': 0.6962738337353409,\n 'PGN': 0.1315996763864977,\n 'PYR': 0.23689143601923202,\n 'Q': 0.3261172921285893,\n 'QH2': 0.6738827075228894,\n 'R5P': 0.10684164502688087,\n 'RU5P': 0.3418264476908564,\n 'S7P': 0.1419850254716758,\n 'SUC': 0.21605544156052145,\n 'SUCCOA': 0.041087867206645645,\n 'X5P': 0.5060177904486485,\n 'ei': 0.00033401324809421485,\n 'eiP': 0.006381162524862582,\n 'eiia': 0.014201856679533414,\n 'eiiaP': 0.4805685429968739,\n 'eiicb': 4.719096755498874e-05,\n 'eiicbP': 0.000342621393893162,\n 'hpr': 0.00019121180873125115,\n 'hprP': 0.00525081180067922,\n 'icd': 0.0005427443655435394,\n 'icdP': 0.05145725615616841,\n 'tal': 0.002780945269245241,\n 'talC3': 0.05721905469591064,\n 'tkt': 0.013830787679523856,\n 'tktC2': 0.056169212239000954,\n 'ADP': 0.5983167526960764,\n 'AMP': 0.18625374127025457,\n 'ATP': 2.57219904250835,\n 'CAMP': 0.9231306618658496,\n 'COA': 0.5,\n 'HCO3': 1.4,\n 'P': 9.763890671710694,\n 'MG': 1.0,\n 'MgADP': 0.26268256405256,\n 'MgATP': 2.37120966755768,\n 'MgFDP': 0.0413815212722838,\n 'ASP': 1.17,\n 'CYS': 0.085,\n 'MN': 0.3,\n 'Hin': 3.16227766e-05,\n 'H2O': 1.0,\n 'O2': 0.21,\n 'FAD': 0.2539141837956528,\n 'FADH2': 0.7460858162811783,\n 'ACEx': 0.0001867076460142001,\n 'GLCx': 0.02710498795442151,\n 'Px': 10.0,\n 'ACEx_0': 0.0001865003990364555,\n 'Hout': 5.374484315964786e-05,\n 'GLCp': 0.004033369731743334,\n 'Pp': 9.98285275831398,\n 'ACEp': 0.00018660402252425405}"
     },
     "execution_count": 17,
     "metadata": {},
     "output_type": "execute_result"
    }
   ],
   "source": [
    "print(f'Concentrations:')\n",
    "dict(res.concentations)"
   ],
   "metadata": {
    "collapsed": false
   }
  },
  {
   "cell_type": "code",
   "execution_count": 18,
   "outputs": [
    {
     "name": "stdout",
     "output_type": "stream",
     "text": [
      "PGN: 0.1315996763864977\n",
      "AKG: 0.5978706406850774\n",
      "FDP: 0.28180822068892264\n",
      "G6P: 0.861129190704796\n",
      "PYR: 0.23689143601923202\n",
      "PEP: 0.9970378435168444\n",
      "FUM: 0.21311486948894393\n",
      "CIT: 0.08953053811780777\n",
      "MAL: 1.0321525769941637\n",
      "ADP: 0.5983167526960764\n",
      "ATP: 2.57219904250835\n",
      "AMP: 0.18625374127025457\n",
      "E4P: 0.1312999299858147\n",
      "PGA2+PGA3: 1.0745707554987396\n"
     ]
    }
   ],
   "source": [
    "print('PGN:', res.concentations['PGN'])\n",
    "print('AKG:', res.concentations['AKG'])\n",
    "print('FDP:', res.concentations['FDP'])\n",
    "print('G6P:', res.concentations['G6P'])\n",
    "print('PYR:', res.concentations['PYR'])\n",
    "print('PEP:', res.concentations['PEP'])\n",
    "print('FUM:', res.concentations['FUM'])\n",
    "print('CIT:', res.concentations['CIT'])\n",
    "print('MAL:', res.concentations['MAL'])\n",
    "print('ADP:', res.concentations['ADP'])\n",
    "print('ATP:', res.concentations['ATP'])\n",
    "print('AMP:', res.concentations['AMP'])\n",
    "print('E4P:', res.concentations['E4P'])\n",
    "print('PGA2+PGA3:', res.concentations['PGA2'] + res.concentations['PGA3'])"
   ],
   "metadata": {
    "collapsed": false
   }
  },
  {
   "cell_type": "code",
   "execution_count": 19,
   "outputs": [
    {
     "name": "stdout",
     "output_type": "stream",
     "text": [
      "ACCOA: 0\n",
      "ACO: 0\n",
      "ACP: 0\n",
      "AKG: 0\n",
      "BPG: 0\n",
      "CIT: 0\n",
      "DAP: 0\n",
      "E4P: 0\n",
      "F6P: 0\n",
      "FDP: 0\n",
      "FUM: 0\n",
      "G6P: 0\n",
      "GAP: 0\n",
      "GL6P: 0\n",
      "GLX: 0\n",
      "ICIT: 0\n",
      "KDPG: 0\n",
      "MAL: 0\n",
      "NAD: 0\n",
      "NADH: 0\n",
      "NADP: 0\n",
      "NADPH: 0\n",
      "OAA: 0\n",
      "PEP: 0\n",
      "PGA2: 0\n",
      "PGA3: 0\n",
      "PGN: 0\n",
      "PYR: 0\n",
      "Q: 0\n",
      "QH2: 0\n",
      "R5P: 0\n",
      "RU5P: 0\n",
      "S7P: 0\n",
      "SUC: 0\n",
      "SUCCOA: 0\n",
      "X5P: 0\n",
      "ei: 0\n",
      "eiP: 0\n",
      "eiia: 0\n",
      "eiiaP: 0\n",
      "eiicb: 0\n",
      "eiicbP: 0\n",
      "hpr: 0\n",
      "hprP: 0\n",
      "icd: 0\n",
      "icdP: 0\n",
      "tal: 0\n",
      "talC3: 0\n",
      "tkt: 0\n",
      "tktC2: 0\n",
      "ADP: 0\n",
      "AMP: 0\n",
      "ATP: 0\n",
      "CAMP: 0\n",
      "COA: 0\n",
      "HCO3: 0\n",
      "P: 0\n",
      "MG: 0\n",
      "MgADP: 0\n",
      "MgATP: 0\n",
      "MgFDP: 0\n",
      "ASP: 0\n",
      "CYS: 0\n",
      "MN: 0\n",
      "Hin: 0\n",
      "H2O: 0\n",
      "O2: 0\n",
      "FAD: 0\n",
      "FADH2: 0\n",
      "ACEx: 0\n",
      "GLCx: 1, dif:0.020999999999999998\n",
      "Px: 0\n",
      "ACEx_0: 0\n",
      "Hout: 0\n",
      "GLCp: 0\n",
      "Pp: 1, dif:-0.016000000000000014\n",
      "ACEp: 0\n"
     ]
    },
    {
     "data": {
      "text/plain": "objective: None\nStatus: ODEStatus.OPTIMAL\nConstraints: OrderedDict()\nMethod:None"
     },
     "execution_count": 19,
     "metadata": {},
     "output_type": "execute_result"
    }
   ],
   "source": [
    "conv(res.concentations, sim.model.concentrations)\n",
    "res"
   ],
   "metadata": {
    "collapsed": false
   }
  }
 ],
 "metadata": {
  "kernelspec": {
   "display_name": "Python 3",
   "language": "python",
   "name": "python3"
  },
  "language_info": {
   "codemirror_mode": {
    "name": "ipython",
    "version": 2
   },
   "file_extension": ".py",
   "mimetype": "text/x-python",
   "name": "python",
   "nbconvert_exporter": "python",
   "pygments_lexer": "ipython2",
   "version": "2.7.6"
  }
 },
 "nbformat": 4,
 "nbformat_minor": 0
}
